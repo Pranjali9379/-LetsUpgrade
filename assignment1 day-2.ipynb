{
 "cells": [
  {
   "cell_type": "markdown",
   "metadata": {},
   "source": [
    "# 1.List and its default functions\n"
   ]
  },
  {
   "cell_type": "markdown",
   "metadata": {},
   "source": [
    "The list() function creates a list object.\n",
    "A list object is a collection which  is ordered and changeable.\n"
   ]
  },
  {
   "cell_type": "raw",
   "metadata": {},
   "source": [
    "list append()-add a single elements to the end of the list."
   ]
  },
  {
   "cell_type": "raw",
   "metadata": {},
   "source": [
    "list clear()-removes all itens from the list."
   ]
  },
  {
   "cell_type": "raw",
   "metadata": {},
   "source": [
    "list extend()-add iterable elements to the end of the list."
   ]
  },
  {
   "cell_type": "raw",
   "metadata": {},
   "source": [
    "list pop()-removes element at the given index."
   ]
  },
  {
   "cell_type": "raw",
   "metadata": {},
   "source": [
    "list reverse()-reverse the list."
   ]
  },
  {
   "cell_type": "markdown",
   "metadata": {},
   "source": [
    "# 2.Dictionary and its default functions"
   ]
  },
  {
   "cell_type": "markdown",
   "metadata": {},
   "source": [
    "Dictionary in python is an unordered collection of data values,used to store data values like a map,which unlike other data types that hold ony single value as an elements,Dictionary hold key."
   ]
  },
  {
   "cell_type": "raw",
   "metadata": {},
   "source": [
    "setdefault()-returns the value of key."
   ]
  },
  {
   "cell_type": "markdown",
   "metadata": {},
   "source": [
    "# 3. Sets and its default functions\n"
   ]
  },
  {
   "cell_type": "markdown",
   "metadata": {},
   "source": [
    "A set is an unordered collection of items.Set items are unique and immutable.\n"
   ]
  },
  {
   "cell_type": "markdown",
   "metadata": {},
   "source": [
    "copy()-Returns a copy of the set"
   ]
  },
  {
   "cell_type": "raw",
   "metadata": {},
   "source": [
    "difference()-Returns the difference of two or more sets as a new set"
   ]
  },
  {
   "cell_type": "markdown",
   "metadata": {},
   "source": [
    "# 4.Tuple and explore default method. "
   ]
  },
  {
   "cell_type": "markdown",
   "metadata": {},
   "source": [
    "Tuple are immuatables.i.e.we cannot change items once it is assigned."
   ]
  },
  {
   "cell_type": "raw",
   "metadata": {},
   "source": [
    "tuple count()-returns count of the elements in the tuple."
   ]
  },
  {
   "cell_type": "raw",
   "metadata": {},
   "source": [
    " tuple index()- returns the index of the element in the tuple."
   ]
  },
  {
   "cell_type": "markdown",
   "metadata": {},
   "source": [
    "# 5.Strings and explore default method."
   ]
  },
  {
   "cell_type": "markdown",
   "metadata": {},
   "source": [
    "A string is a sequence of characters enclosed in quotation marks."
   ]
  },
  {
   "cell_type": "raw",
   "metadata": {},
   "source": [
    "string capitalize()-Convert first character to capital letter\n"
   ]
  },
  {
   "cell_type": "raw",
   "metadata": {},
   "source": [
    "string find()-returns the index of first occurrence of substring."
   ]
  },
  {
   "cell_type": "raw",
   "metadata": {},
   "source": [
    "string index()-returns index of substring\n"
   ]
  },
  {
   "cell_type": "raw",
   "metadata": {},
   "source": [
    "string join()-returns a concatenated string."
   ]
  },
  {
   "cell_type": "raw",
   "metadata": {},
   "source": [
    "string replace()-replaces substring inside."
   ]
  }
 ],
 "metadata": {
  "kernelspec": {
   "display_name": "Python 3",
   "language": "python",
   "name": "python3"
  },
  "language_info": {
   "codemirror_mode": {
    "name": "ipython",
    "version": 3
   },
   "file_extension": ".py",
   "mimetype": "text/x-python",
   "name": "python",
   "nbconvert_exporter": "python",
   "pygments_lexer": "ipython3",
   "version": "3.8.3"
  }
 },
 "nbformat": 4,
 "nbformat_minor": 4
}
